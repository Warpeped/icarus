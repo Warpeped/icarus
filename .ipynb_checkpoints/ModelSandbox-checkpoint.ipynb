{
 "cells": [
  {
   "cell_type": "markdown",
   "id": "9ad7a6ce",
   "metadata": {},
   "source": [
    "This notebook serves as a sandbox for testing different hyperparameters for training the neural network. While this notebook can  be ran without a Nvidia GPU, the usage of one is reccomended as this notebook was written with using CUDA when running PyTorch in mind."
   ]
  },
  {
   "cell_type": "code",
   "execution_count": 8,
   "id": "a2c1a9ac",
   "metadata": {},
   "outputs": [],
   "source": [
    "#Import neccessary libraries\n",
    "import numpy as np\n",
    "import pandas as pd\n",
    "import torch as th"
   ]
  },
  {
   "cell_type": "code",
   "execution_count": 9,
   "id": "e5d4d2a9",
   "metadata": {},
   "outputs": [],
   "source": [
    "#Read data from dataset.csv and convert into numpy arrays\n",
    "dataFrame = pd.read_csv(\"dataset.csv\")\n",
    "dataArray = dataFrame.to_numpy()\n",
    "labels = dataArray[:, 34].astype(str)\n",
    "features = np.delete(dataArray, 34, 1)\n",
    "\n",
    "#Clean up features array by removing biased features, one-hot encoding, and standardization\n",
    "features = np.delete(features, [0, 1, 2, 6, 7, 8, 9, 10, 11, 12, 15, 18], 1)\n",
    "\n",
    "courseEncode = np.zeros((4424, 17), dtype = 'float64')\n",
    "qualiEncode = np.zeros((4424, 17), dtype = 'float64')\n",
    "for i in range(4424):\n",
    "    course = features[i, 0]\n",
    "    courseEncode[i, (course - 1)] = 1\n",
    "    quali = features[i, 2]\n",
    "    qualiEncode[i, (quali - 1)] = 1\n",
    "hotFeatures = np.concatenate((courseEncode, qualiEncode), axis = 1)\n",
    "\n",
    "boolFeatures = np.vstack((features[:, 1], features[:, 3], features[:, 4], features[:, 5])).astype('float64').T\n",
    "unstdFeatures = np.delete(features, [0, 1, 2, 3, 4, 5], 1).astype('float64')\n",
    "stdFeatures = np.empty((4424, 16), dtype = 'float64')\n",
    "for i in range(16):\n",
    "    mean = np.mean(unstdFeatures[:, i])\n",
    "    std = np.std(unstdFeatures[:, i])\n",
    "    for j in range(4424):\n",
    "        stdFeatures[j, i] = (unstdFeatures[j, i] - mean) / std\n",
    "\n",
    "features = np.concatenate((stdFeatures, boolFeatures, hotFeatures), axis = 1)\n",
    "\n",
    "#Function for getting training and validation sets using 8-fold cross validation\n",
    "#vNumber is the index of the split list of feature arrays to be used for the validation set and must be within the range 0 - 7\n",
    "def getSets(vNumber, features, labels):\n",
    "    splitFeatures = np.split(features, 8)\n",
    "    splitLabels = np.split(labels, 8)\n",
    "    vFeatures = splitFeatures.pop(vNumber)\n",
    "    vLabels = splitLabels.pop(vNumber)\n",
    "    tFeatures = np.concatenate(splitFeatures, axis = 0)\n",
    "    tLabels = np.concatenate(splitLabels, axis = 0)\n",
    "    return tFeatures, tLabels, vFeatures, vLabels\n",
    "\n",
    "#Dataset class used for creating datasets out of the training and validation data\n",
    "class Dataset(th.utils.data.Dataset):\n",
    "    def __init__(self, features, labels):\n",
    "        self.features = features\n",
    "        self.labels = labels\n",
    "    \n",
    "    def __len__(self):\n",
    "        return len(self.labels)\n",
    "    \n",
    "    def __getitem__(self, idx):\n",
    "        return self.features[idx, :], self.labels[idx]\n",
    "    \n",
    "#Function for creating dataloaders using the training and validation sets made with getSets\n",
    "#The dataloader passes samples in batches of 79 as it is a factor of both 553 and 3871\n",
    "#which are the number of entries in the validation and training sets respectively\n",
    "def buildLoaders(tFeatures, tLabels, vFeatures, vLabels):\n",
    "    tDataset = Dataset(tFeatures, tLabels)\n",
    "    vDataset = Dataset(vFeatures, vLabels)\n",
    "    tLoader = th.utils.data.DataLoader(tDataset, batch_size = 79, shuffle = True)\n",
    "    vLoader = th.utils.data.DataLoader(vDataset, batch_size = 79, shuffle = True)\n",
    "    "
   ]
  },
  {
   "cell_type": "markdown",
   "id": "788c6383",
   "metadata": {},
   "source": []
  }
 ],
 "metadata": {
  "kernelspec": {
   "display_name": "Python 3 (ipykernel)",
   "language": "python",
   "name": "python3"
  },
  "language_info": {
   "codemirror_mode": {
    "name": "ipython",
    "version": 3
   },
   "file_extension": ".py",
   "mimetype": "text/x-python",
   "name": "python",
   "nbconvert_exporter": "python",
   "pygments_lexer": "ipython3",
   "version": "3.9.16"
  }
 },
 "nbformat": 4,
 "nbformat_minor": 5
}
